{
 "cells": [
  {
   "cell_type": "markdown",
   "metadata": {
    "id": "G1e8ijh3jFke"
   },
   "source": [
    "## Install the Kaggle package"
   ]
  },
  {
   "cell_type": "code",
   "execution_count": 1,
   "metadata": {
    "colab": {
     "base_uri": "https://localhost:8080/",
     "height": 227
    },
    "id": "osczY08CXEnv",
    "outputId": "5407feab-21df-40c8-e200-1e74f6afb66a",
    "scrolled": true
   },
   "outputs": [
    {
     "name": "stdout",
     "output_type": "stream",
     "text": [
      "Looking in indexes: https://pypi.org/simple, https://packagecloud.io/github/git-lfs/pypi/simple\n",
      "Collecting kaggle\n",
      "  Downloading kaggle-1.5.12.tar.gz (58 kB)\n",
      "\u001b[2K     \u001b[38;2;114;156;31m━━━━━━━━━━━━━━━━━━━━━━━━━━━━━━━━━━━━━━━━\u001b[0m \u001b[32m59.0/59.0 kB\u001b[0m \u001b[31m1.2 MB/s\u001b[0m eta \u001b[36m0:00:00\u001b[0m7 kB/s\u001b[0m eta \u001b[36m0:00:01\u001b[0m\n",
      "\u001b[?25h  Preparing metadata (setup.py) ... \u001b[?25ldone\n",
      "\u001b[?25hRequirement already satisfied: six>=1.10 in /home/sirlab/anaconda3/envs/pytorch/lib/python3.9/site-packages (from kaggle) (1.16.0)\n",
      "Requirement already satisfied: certifi in /home/sirlab/anaconda3/envs/pytorch/lib/python3.9/site-packages (from kaggle) (2022.9.14)\n",
      "Requirement already satisfied: python-dateutil in /home/sirlab/anaconda3/envs/pytorch/lib/python3.9/site-packages (from kaggle) (2.8.2)\n",
      "Requirement already satisfied: requests in /home/sirlab/anaconda3/envs/pytorch/lib/python3.9/site-packages (from kaggle) (2.28.1)\n",
      "Requirement already satisfied: tqdm in /home/sirlab/anaconda3/envs/pytorch/lib/python3.9/site-packages (from kaggle) (4.64.1)\n",
      "Collecting python-slugify\n",
      "  Downloading python_slugify-6.1.2-py2.py3-none-any.whl (9.4 kB)\n",
      "Requirement already satisfied: urllib3 in /home/sirlab/anaconda3/envs/pytorch/lib/python3.9/site-packages (from kaggle) (1.26.11)\n",
      "Collecting text-unidecode>=1.3\n",
      "  Downloading text_unidecode-1.3-py2.py3-none-any.whl (78 kB)\n",
      "\u001b[2K     \u001b[38;2;114;156;31m━━━━━━━━━━━━━━━━━━━━━━━━━━━━━━━━━━━━━━━━\u001b[0m \u001b[32m78.2/78.2 kB\u001b[0m \u001b[31m4.1 MB/s\u001b[0m eta \u001b[36m0:00:00\u001b[0m\n",
      "\u001b[?25hRequirement already satisfied: idna<4,>=2.5 in /home/sirlab/anaconda3/envs/pytorch/lib/python3.9/site-packages (from requests->kaggle) (3.3)\n",
      "Requirement already satisfied: charset-normalizer<3,>=2 in /home/sirlab/anaconda3/envs/pytorch/lib/python3.9/site-packages (from requests->kaggle) (2.1.1)\n",
      "Building wheels for collected packages: kaggle\n",
      "  Building wheel for kaggle (setup.py) ... \u001b[?25ldone\n",
      "\u001b[?25h  Created wheel for kaggle: filename=kaggle-1.5.12-py3-none-any.whl size=73031 sha256=ef975d634f5f23acb655c916a3d77cb62331b2c637a07266db829a39c153b9fd\n",
      "  Stored in directory: /home/sirlab/.cache/pip/wheels/ac/b2/c3/fa4706d469b5879105991d1c8be9a3c2ef329ba9fe2ce5085e\n",
      "Successfully built kaggle\n",
      "Installing collected packages: text-unidecode, python-slugify, kaggle\n",
      "Successfully installed kaggle-1.5.12 python-slugify-6.1.2 text-unidecode-1.3\n",
      "Note: you may need to restart the kernel to use updated packages.\n"
     ]
    }
   ],
   "source": [
    "pip install kaggle"
   ]
  },
  {
   "cell_type": "markdown",
   "metadata": {
    "id": "2pos5ikMjeeh"
   },
   "source": [
    "## Authorize the Kaggle API\n",
    "\n",
    "We will use the Kaggle API to download the dataset. For this you will need your Kaggle username and kaggle API token (you will need a Kaggle account).The key can then be generated via you \"Accounts\" page on kaggle.com\n",
    "\n",
    "Alternatively, you can also manually download the data."
   ]
  },
  {
   "cell_type": "code",
   "execution_count": null,
   "metadata": {
    "colab": {
     "base_uri": "https://localhost:8080/",
     "height": 34
    },
    "id": "Sdk8FultXO0m",
    "outputId": "96b5cbb5-1c7a-4ca2-c364-50b4e3e32eac"
   },
   "outputs": [
    {
     "name": "stdout",
     "output_type": "stream",
     "text": [
      "401 - Unauthorized\n"
     ]
    }
   ],
   "source": [
    "import os\n",
    "\n",
    "# Replace the following with your secrets\n",
    "os.environ['KAGGLE_USERNAME'] = \"xxxxx\"\n",
    "os.environ['KAGGLE_KEY'] = \"xxxxx\"\n",
    "\n",
    "DATA_DIR = \"/content/drive/My Drive/Colab_data/FERplus2016/FER2013\"\n",
    "!kaggle competitions download -c challenges-in-representation-learning-facial-expression-recognition-challenge -p DATA_DIR"
   ]
  },
  {
   "cell_type": "markdown",
   "metadata": {
    "id": "kaZlOQQZkekh"
   },
   "source": [
    "## Generate dataset\n",
    "\n",
    "Next, we will generate the dataset. The script is available on the [FERPlus github repo](https://github.com/microsoft/FERPlus.git) and we will simply clone and re-use the script"
   ]
  },
  {
   "cell_type": "code",
   "execution_count": null,
   "metadata": {
    "colab": {
     "base_uri": "https://localhost:8080/",
     "height": 103
    },
    "id": "sr0GxHX8YcgX",
    "outputId": "84545d2f-fbc6-45aa-8a7d-1cda4895f286"
   },
   "outputs": [
    {
     "name": "stdout",
     "output_type": "stream",
     "text": [
      "Cloning into 'FERPlus'...\n",
      "remote: Enumerating objects: 128, done.\u001b[K\n",
      "remote: Total 128 (delta 0), reused 0 (delta 0), pack-reused 128\u001b[K\n",
      "Receiving objects: 100% (128/128), 650.28 KiB | 1.82 MiB/s, done.\n",
      "Resolving deltas: 100% (70/70), done.\n"
     ]
    }
   ],
   "source": [
    "#!rm -rf FERPlus\n",
    "!git clone https://github.com/microsoft/FERPlus.git"
   ]
  },
  {
   "cell_type": "code",
   "execution_count": null,
   "metadata": {
    "colab": {
     "base_uri": "https://localhost:8080/",
     "height": 86
    },
    "id": "Dub37OAgc_60",
    "outputId": "e0191f3a-267b-4eb1-8dd8-68e6fa435e08"
   },
   "outputs": [
    {
     "name": "stdout",
     "output_type": "stream",
     "text": [
      "total 12\n",
      "drwxr-xr-x 2 root root 4096 Jan 13 03:10 FER2013Test\n",
      "drwxr-xr-x 2 root root 4096 Jan 13 03:10 FER2013Train\n",
      "drwxr-xr-x 2 root root 4096 Jan 13 03:10 FER2013Valid\n"
     ]
    }
   ],
   "source": [
    "!cd  FERPlus/data && ls -l"
   ]
  },
  {
   "cell_type": "code",
   "execution_count": null,
   "metadata": {
    "colab": {
     "base_uri": "https://localhost:8080/",
     "height": 137
    },
    "id": "uRxQ54wLbaDF",
    "outputId": "6635b097-ca3f-48b4-970a-ce54a8a787e0"
   },
   "outputs": [
    {
     "name": "stdout",
     "output_type": "stream",
     "text": [
      "total 40\n",
      "-rw-r--r-- 1 root root 11023 Jan 13 01:07 ferplus.py\n",
      "-rw-r--r-- 1 root root  3147 Jan 13 01:07 generate_training_data.py\n",
      "-rw-r--r-- 1 root root  3444 Jan 13 01:07 img_util.py\n",
      "-rw-r--r-- 1 root root  2611 Jan 13 01:07 models.py\n",
      "-rw-r--r-- 1 root root  7417 Jan 13 01:07 rect_util.py\n",
      "-rw-r--r-- 1 root root  7969 Jan 13 01:07 train.py\n"
     ]
    }
   ],
   "source": [
    "!cd FERPlus/src && ls -l"
   ]
  },
  {
   "cell_type": "code",
   "execution_count": null,
   "metadata": {
    "colab": {
     "base_uri": "https://localhost:8080/",
     "height": 86
    },
    "id": "3hMTQy9bcS50",
    "outputId": "1aaf2047-86c4-4cdf-c8ef-47488eba57b2"
   },
   "outputs": [
    {
     "name": "stdout",
     "output_type": "stream",
     "text": [
      "fer2013/fer2013.csv\n",
      "fer2013/README\n",
      "fer2013/fer2013.bib\n",
      "fer2013/\n"
     ]
    }
   ],
   "source": [
    "# Extract the downloaded data into another directory\n",
    "!tar xvzf \"/content/drive/My Drive//FERplus2016/FER2013/fer2013.tar.gz\" -C \"/content/drive/My Drive/Colab_data/FERplus2016/FER2013/\""
   ]
  },
  {
   "cell_type": "code",
   "execution_count": null,
   "metadata": {
    "colab": {
     "base_uri": "https://localhost:8080/",
     "height": 51
    },
    "id": "kkhtNTqldx9H",
    "outputId": "87f9b37c-3128-408f-9b6f-09d3a9cce09a"
   },
   "outputs": [
    {
     "name": "stdout",
     "output_type": "stream",
     "text": [
      "Start generating ferplus images.\n",
      "Done...\n"
     ]
    }
   ],
   "source": [
    "# Run the data generation script on the extracted data\n",
    "# Usage: python generate_training_data.py -d <dataset base folder> -fer <fer2013.csv path> -ferplus <fer2013new.csv path>\n",
    "!python FERPlus/src/generate_training_data.py -d FERPlus/data -fer \"/content/drive/My Drive/Colab_data/FERplus2016/FER2013/fer2013/fer2013.csv\" -ferplus \"/content/FERPlus/fer2013new.csv\""
   ]
  }
 ],
 "metadata": {
  "colab": {
   "collapsed_sections": [],
   "provenance": []
  },
  "kernelspec": {
   "display_name": "Python 3 (ipykernel)",
   "language": "python",
   "name": "python3"
  },
  "language_info": {
   "codemirror_mode": {
    "name": "ipython",
    "version": 3
   },
   "file_extension": ".py",
   "mimetype": "text/x-python",
   "name": "python",
   "nbconvert_exporter": "python",
   "pygments_lexer": "ipython3",
   "version": "3.9.13"
  }
 },
 "nbformat": 4,
 "nbformat_minor": 1
}
