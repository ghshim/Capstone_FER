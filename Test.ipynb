{
 "cells": [
  {
   "cell_type": "code",
   "execution_count": 1,
   "id": "092b7391",
   "metadata": {},
   "outputs": [],
   "source": [
    "import os\n",
    "import os.path\n",
    "from PIL import Image\n",
    "import cv2\n",
    "\n",
    "import torch\n",
    "import torch.optim as optim\n",
    "import torch.utils.data as data\n",
    "from torch.utils.data import Dataset, DataLoader\n",
    "from torchvision.models import vgg13\n",
    "import torch.nn as nn\n",
    "import math\n",
    "\n",
    "import torchvision\n",
    "from torchvision import transforms\n",
    "\n",
    "import numpy as np\n",
    "from tqdm import tqdm\n",
    "import matplotlib.pyplot as plt\n",
    "%matplotlib inline\n",
    "\n",
    "from models.vgg import VGG\n",
    "from preprocess import preprocess"
   ]
  },
  {
   "cell_type": "code",
   "execution_count": 2,
   "id": "0df18e1d",
   "metadata": {},
   "outputs": [],
   "source": [
    "MODEL_DIR = '../pretrained'\n",
    "MODEL_NAME = 'refinedFERPlus_model.pth'"
   ]
  },
  {
   "cell_type": "code",
   "execution_count": 3,
   "id": "1845cd6e",
   "metadata": {},
   "outputs": [
    {
     "name": "stdout",
     "output_type": "stream",
     "text": [
      "Loading model...\n",
      "model loaded...\n"
     ]
    }
   ],
   "source": [
    "device = \"cpu\"  #cpu\n",
    "\n",
    "print(\"Loading model...\")\n",
    "model = vgg13()\n",
    "model.classifier = nn.Sequential(nn.Linear(7 * 7 * 512, 1024),\n",
    "                                 nn.ReLU(),\n",
    "                                 nn.Dropout(0.25),\n",
    "                                 nn.Linear(1024, 1024),\n",
    "                                 nn.ReLU(),\n",
    "                                 nn.Dropout(0.25),\n",
    "                                 nn.Linear(1024, 8))\n",
    "\n",
    "model.to(device)\n",
    "model.load_state_dict(torch.load(f'{MODEL_DIR}/{MODEL_NAME}', map_location=device))\n",
    "print(\"model loaded...\")"
   ]
  },
  {
   "cell_type": "code",
   "execution_count": 4,
   "id": "68f214a5",
   "metadata": {},
   "outputs": [],
   "source": [
    "def array2tesnor(image):\n",
    "    # transform for image\n",
    "    trans = transforms.Compose([\n",
    "        transforms.ToTensor(),\n",
    "        transforms.Normalize(mean=[0.5, 0.5, 0.5], std=[0.5, 0.5, 0.5])\n",
    "    ])\n",
    "    tensor_image = trans(image).unsqueeze(dim=0)\n",
    "\n",
    "    return tensor_image"
   ]
  },
  {
   "cell_type": "code",
   "execution_count": 5,
   "id": "cabdc016",
   "metadata": {},
   "outputs": [],
   "source": [
    "def print_label(frame, output, top_class):\n",
    "    global classes\n",
    "    # feedback\n",
    "    count = 2\n",
    "    for i in range(len(classes)):\n",
    "        if output[0][i] > 0.5 and classes[i] != top_class:\n",
    "            x = 100 * count\n",
    "            string = str(classes[i]) + ':' + str(output[0][i])\n",
    "            cv.putText(frame, string, (100, x), cv.FONT_ITALIC, 3, (0,0,0), 5)\n",
    "            count += 1\n",
    "    return frame"
   ]
  },
  {
   "cell_type": "code",
   "execution_count": 6,
   "id": "2ba82df1",
   "metadata": {},
   "outputs": [
    {
     "name": "stdout",
     "output_type": "stream",
     "text": [
      "happiness\n"
     ]
    }
   ],
   "source": [
    "image = cv2.imread('./preprocess/fer0032230.png')\n",
    "\n",
    "class_dict = {\n",
    "    0: 'neutral',\n",
    "    1: 'happiness',\n",
    "    2: 'surprise',\n",
    "    3: 'sadness',\n",
    "    4: 'anger',\n",
    "    5: 'disgust',\n",
    "    6: 'fear',\n",
    "    7: 'contempt'\n",
    "}\n",
    "\n",
    "classes = ['neutral', 'happiness', 'surprise', 'sadness', 'anger', 'disgust', 'fear', 'contempt']\n",
    "\n",
    "model.eval()\n",
    "\n",
    "with torch.no_grad():\n",
    "    tensor = array2tesnor(image).to(device)\n",
    "    output = model(tensor)\n",
    "    ps = torch.exp(output)\n",
    "\n",
    "    prob = torch.nn.functional.softmax(output, dim=1)\n",
    "    top_p, top_class = prob.topk(1, dim=1) # extract top class index and probability\n",
    "    result = classes[top_class]\n",
    "    print(result)\n",
    "    #     _, pred = torch.max(outputs, 1)\n",
    "#     print(\"pred\", pred)\n",
    "#     #pred = pred.cpu().numpy()\n",
    "#     print(class_dict[pred])"
   ]
  },
  {
   "cell_type": "code",
   "execution_count": 7,
   "id": "cd1c1f7d",
   "metadata": {},
   "outputs": [
    {
     "name": "stdout",
     "output_type": "stream",
     "text": [
      "Could not open webcam\n"
     ]
    }
   ],
   "source": [
    "webcam = cv2.VideoCapture(cv2.CAP_DSHOW+0)\n",
    "\n",
    "if not webcam.isOpened():\n",
    "    print(\"Could not open webcam\")\n",
    "    exit()\n",
    "\n",
    "while webcam.isOpened():\n",
    "    status, frame = webcam.read()\n",
    "    \n",
    "    preprocess_frame = preprocess.image_preprocessing(frame) # input for cnn\n",
    "    \n",
    "    if preprocess_frame is None:\n",
    "        result = 'Not Defined'\n",
    "    \n",
    "    else:\n",
    "    \n",
    "        tensor = array2tesnor(frame).to(device)\n",
    "        output = model(tensor)\n",
    "        ps = torch.exp(output)\n",
    "\n",
    "        prob = torch.nn.functional.softmax(output, dim=1)\n",
    "        top_p, top_class = prob.topk(1, dim=1) # extract top class index and probability\n",
    "        result = classes[top_class]\n",
    "        result_image = print_label(frame, output, text) # feedback\n",
    "\n",
    "    # put final class on the frame\n",
    "    cv2.putText(result_image, text, (50, 100), cv.FONT_ITALIC, 5, (0,0,255), 5)\n",
    "    \n",
    "    if status:\n",
    "        cv2.imshow(\"test\", result_image)\n",
    "\n",
    "    if cv2.waitKey(1) & 0xFF == ord('q'):\n",
    "        break\n",
    "\n",
    "webcam.release()\n",
    "cv2.destroyAllWindows()"
   ]
  },
  {
   "cell_type": "code",
   "execution_count": null,
   "id": "193827f3",
   "metadata": {},
   "outputs": [],
   "source": []
  }
 ],
 "metadata": {
  "kernelspec": {
   "display_name": "Python 3 (ipykernel)",
   "language": "python",
   "name": "python3"
  },
  "language_info": {
   "codemirror_mode": {
    "name": "ipython",
    "version": 3
   },
   "file_extension": ".py",
   "mimetype": "text/x-python",
   "name": "python",
   "nbconvert_exporter": "python",
   "pygments_lexer": "ipython3",
   "version": "3.9.13"
  }
 },
 "nbformat": 4,
 "nbformat_minor": 5
}
